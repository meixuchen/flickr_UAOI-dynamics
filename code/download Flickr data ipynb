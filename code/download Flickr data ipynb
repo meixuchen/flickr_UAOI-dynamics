{
 "cells": [
  {
   "cell_type": "markdown",
   "metadata": {},
   "source": [
    "# Flickr data download"
   ]
  },
  {
   "cell_type": "code",
   "execution_count": 24,
   "metadata": {},
   "outputs": [],
   "source": [
    "import flickrapi\n",
    "import csv\n",
    "import datetime\n",
    "import itertools"
   ]
  },
  {
   "cell_type": "markdown",
   "metadata": {},
   "source": [
    "We need to use Flickr API to require Flickr data. To use it, you need to have an API KEY and API SECRET to get permission to its API. Register an Flickr account and apply for them first.\n",
    "Here is the [link](https://www.flickr.com/services/api/misc.api_keys.html). "
   ]
  },
  {
   "cell_type": "code",
   "execution_count": 3,
   "metadata": {},
   "outputs": [],
   "source": [
    "api_key = 'xxxxxxxxxxxxxx'\n",
    "api_secret='xxxxxxxxxxxxxxxxx'\n",
    "flickr = flickrapi.FlickrAPI(api_key, api_secret, cache=True)"
   ]
  },
  {
   "cell_type": "markdown",
   "metadata": {},
   "source": [
    "Flickr.photos_search function will return a list of photos matching some criteria. It allows you to search photos based on location, date, tag and so on."
   ]
  },
  {
   "cell_type": "code",
   "execution_count": 245,
   "metadata": {},
   "outputs": [],
   "source": [
    "#Search all photos in a geographic area by defining a bounding box; \n",
    "#define start date and end date for the time span you want to download photos\n",
    "begin_year = datetime.datetime(year, month, date, hour,minute,second)\n",
    "end_year = datetime.datetime(year, month, date, hour,minute,second)\n",
    "one_day = datetime.timedelta(days=1)\n",
    "#Time range for your data\n",
    "range_days = (end_year-begin_year).days\n",
    "#Unlike standard photo queries, geo (or bounding box) queries will only return 250 results per page,so use the threshold value to get the maximal number of photos per page.\n",
    "photos = flickr.photos.search(bbox='xxxxx',extras='geo,tags,date_taken,url_m',per_page=250)\n",
    "#Flickr API has a limitation for the number of photos people can get it, if geo infomation is needed, only the first 2000 photos are allowed to query, so the number of pages cannot beyond 8 pages. \n",
    "pages=int(photos[0].attrib['pages'])\n",
    "if pages > 8:\n",
    "    pages = 8"
   ]
  },
  {
   "cell_type": "code",
   "execution_count": 246,
   "metadata": {},
   "outputs": [],
   "source": [
    "#Create and open an empty csv file to store your data\n",
    "f = open('xxxx.csv','w',encoding = 'utf-8')\n",
    "#add header (data column names)\n",
    "csv.DictWriter(f,['user','uid','lat','lon','title','tag','date_taken','url']).writeheader()\n",
    "\n",
    "#Use for loops to iterately download all photos daily, \n",
    "#because generally the number of photos will not beyond the maximum number of photos Flickr API limited in this case. \n",
    "\n",
    "for day, page in itertools.product(range(range_days), range(pages)):\n",
    "    next_day = begin_year + datetime.timedelta(day)\n",
    "    photos = flickr.photos.search(bbox='xxxxx', content_type = 1,\n",
    "                                    min_taken_date= next_day, max_taken_date= next_day + one_day,\n",
    "                                    extras='geo,tags,date_taken,url_m',per_page=250,page=page+1)\n",
    "    for photo in photos[0]:\n",
    "            user = photo.get('owner')\n",
    "            uid = photo.get('id')\n",
    "            lat = photo.get('latitude')\n",
    "            lon = photo.get('longitude')\n",
    "            t1=photo.get('title')\n",
    "            t2=photo.get('tags')\n",
    "            datetaken = photo.get('datetaken')\n",
    "            url=photo.get('url_m')\n",
    "            \n",
    "            col_names = [user,uid,lat,lon,t1,t2,datetaken,url]\n",
    "            cols = [col if col is not None else 'Null' for col in col_names]\n",
    "\n",
    "            f.write(','.join(cols)+ '\\n')\n",
    "\n",
    "f.close()  "
   ]
  },
  {
   "cell_type": "code",
   "execution_count": null,
   "metadata": {},
   "outputs": [],
   "source": []
  }
 ],
 "metadata": {
  "kernelspec": {
   "display_name": "Python 3",
   "language": "python",
   "name": "python3"
  },
  "language_info": {
   "codemirror_mode": {
    "name": "ipython",
    "version": 3
   },
   "file_extension": ".py",
   "mimetype": "text/x-python",
   "name": "python",
   "nbconvert_exporter": "python",
   "pygments_lexer": "ipython3",
   "version": "3.7.9"
  }
 },
 "nbformat": 4,
 "nbformat_minor": 4
}
